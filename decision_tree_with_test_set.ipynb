{
 "cells": [
  {
   "cell_type": "code",
   "execution_count": 2,
   "metadata": {},
   "outputs": [],
   "source": [
    "from sklearn.tree import DecisionTreeClassifier\n",
    "from sklearn.metrics import accuracy_score\n",
    "from sklearn.model_selection import train_test_split\n",
    "import numpy as np\n",
    "import pandas as pd"
   ]
  },
  {
   "cell_type": "code",
   "execution_count": 3,
   "metadata": {},
   "outputs": [],
   "source": [
    "data = np.asarray(pd.read_csv('classification_problem.csv'))"
   ]
  },
  {
   "cell_type": "code",
   "execution_count": 4,
   "metadata": {},
   "outputs": [],
   "source": [
    "x = data[:,0:2]\n",
    "y = data[:,2]"
   ]
  },
  {
   "cell_type": "code",
   "execution_count": 8,
   "metadata": {},
   "outputs": [],
   "source": [
    "x_train,x_test,y_train, y_test = train_test_split(x, y, test_size=0.25)"
   ]
  },
  {
   "cell_type": "code",
   "execution_count": 9,
   "metadata": {},
   "outputs": [
    {
     "data": {
      "text/plain": [
       "array([[0.78917 , 0.8962  ],\n",
       "       [0.15553 , 0.13596 ],\n",
       "       [0.51498 , 0.10965 ],\n",
       "       [0.08871 , 0.49269 ],\n",
       "       [0.59793 , 0.93129 ],\n",
       "       [0.53571 , 0.6038  ],\n",
       "       [0.32604 , 0.54825 ],\n",
       "       [0.077189, 0.6886  ],\n",
       "       [0.14862 , 0.5307  ],\n",
       "       [0.5288  , 0.41082 ],\n",
       "       [0.75    , 0.46345 ],\n",
       "       [0.20161 , 0.58041 ],\n",
       "       [0.12327 , 0.67982 ],\n",
       "       [0.59793 , 0.095029],\n",
       "       [0.38134 , 0.8962  ],\n",
       "       [0.46198 , 0.30556 ],\n",
       "       [0.1947  , 0.29678 ],\n",
       "       [0.28226 , 0.82602 ],\n",
       "       [0.33525 , 0.62135 ],\n",
       "       [0.72235 , 0.35526 ],\n",
       "       [0.70161 , 0.42251 ],\n",
       "       [0.081797, 0.58626 ],\n",
       "       [0.61175 , 0.83187 ],\n",
       "       [0.8629  , 0.10965 ]])"
      ]
     },
     "execution_count": 9,
     "metadata": {},
     "output_type": "execute_result"
    }
   ],
   "source": [
    "x_test"
   ]
  }
 ],
 "metadata": {
  "kernelspec": {
   "display_name": "Python 3",
   "language": "python",
   "name": "python3"
  },
  "language_info": {
   "codemirror_mode": {
    "name": "ipython",
    "version": 3
   },
   "file_extension": ".py",
   "mimetype": "text/x-python",
   "name": "python",
   "nbconvert_exporter": "python",
   "pygments_lexer": "ipython3",
   "version": "3.7.5"
  }
 },
 "nbformat": 4,
 "nbformat_minor": 2
}
